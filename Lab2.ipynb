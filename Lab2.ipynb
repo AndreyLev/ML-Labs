{
 "cells": [
  {
   "cell_type": "markdown",
   "id": "a4d3d311",
   "metadata": {},
   "source": [
    "### Загрузка необходимых библиотек"
   ]
  },
  {
   "cell_type": "code",
   "execution_count": 4,
   "id": "cc64c9f6",
   "metadata": {},
   "outputs": [],
   "source": [
    "import pandas as pd\n",
    "import matplotlib.pyplot as plt\n",
    "%matplotlib inline \n",
    "import numpy as np"
   ]
  },
  {
   "cell_type": "markdown",
   "id": "ff8fb75e",
   "metadata": {},
   "source": [
    "### Убираем предупреждения"
   ]
  },
  {
   "cell_type": "code",
   "execution_count": 5,
   "id": "ba1d3d90",
   "metadata": {},
   "outputs": [],
   "source": [
    "import warnings\n",
    "warnings.filterwarnings(\"ignore\")"
   ]
  },
  {
   "cell_type": "markdown",
   "id": "25223059",
   "metadata": {},
   "source": [
    "### Загрузка данных\n"
   ]
  },
  {
   "cell_type": "code",
   "execution_count": 6,
   "id": "58fc117d",
   "metadata": {},
   "outputs": [],
   "source": [
    "data = pd.read_csv(\"https://github.com/AndreyLev/ML-Labs/raw/main/new_train.csv\")"
   ]
  },
  {
   "cell_type": "code",
   "execution_count": 7,
   "id": "26f356d9",
   "metadata": {},
   "outputs": [
    {
     "data": {
      "text/plain": [
       "(32950, 16)"
      ]
     },
     "execution_count": 7,
     "metadata": {},
     "output_type": "execute_result"
    }
   ],
   "source": [
    "data.shape"
   ]
  },
  {
   "cell_type": "code",
   "execution_count": 8,
   "id": "7a6d1f14",
   "metadata": {},
   "outputs": [
    {
     "data": {
      "text/html": [
       "<div>\n",
       "<style scoped>\n",
       "    .dataframe tbody tr th:only-of-type {\n",
       "        vertical-align: middle;\n",
       "    }\n",
       "\n",
       "    .dataframe tbody tr th {\n",
       "        vertical-align: top;\n",
       "    }\n",
       "\n",
       "    .dataframe thead th {\n",
       "        text-align: right;\n",
       "    }\n",
       "</style>\n",
       "<table border=\"1\" class=\"dataframe\">\n",
       "  <thead>\n",
       "    <tr style=\"text-align: right;\">\n",
       "      <th></th>\n",
       "      <th>age</th>\n",
       "      <th>job</th>\n",
       "      <th>marital</th>\n",
       "      <th>education</th>\n",
       "      <th>default</th>\n",
       "      <th>housing</th>\n",
       "      <th>loan</th>\n",
       "      <th>contact</th>\n",
       "      <th>month</th>\n",
       "      <th>day_of_week</th>\n",
       "      <th>duration</th>\n",
       "      <th>campaign</th>\n",
       "      <th>pdays</th>\n",
       "      <th>previous</th>\n",
       "      <th>poutcome</th>\n",
       "      <th>y</th>\n",
       "    </tr>\n",
       "  </thead>\n",
       "  <tbody>\n",
       "    <tr>\n",
       "      <th>0</th>\n",
       "      <td>49</td>\n",
       "      <td>blue-collar</td>\n",
       "      <td>married</td>\n",
       "      <td>basic.9y</td>\n",
       "      <td>unknown</td>\n",
       "      <td>no</td>\n",
       "      <td>no</td>\n",
       "      <td>cellular</td>\n",
       "      <td>nov</td>\n",
       "      <td>wed</td>\n",
       "      <td>227</td>\n",
       "      <td>4</td>\n",
       "      <td>999</td>\n",
       "      <td>0</td>\n",
       "      <td>nonexistent</td>\n",
       "      <td>no</td>\n",
       "    </tr>\n",
       "    <tr>\n",
       "      <th>1</th>\n",
       "      <td>37</td>\n",
       "      <td>entrepreneur</td>\n",
       "      <td>married</td>\n",
       "      <td>university.degree</td>\n",
       "      <td>no</td>\n",
       "      <td>no</td>\n",
       "      <td>no</td>\n",
       "      <td>telephone</td>\n",
       "      <td>nov</td>\n",
       "      <td>wed</td>\n",
       "      <td>202</td>\n",
       "      <td>2</td>\n",
       "      <td>999</td>\n",
       "      <td>1</td>\n",
       "      <td>failure</td>\n",
       "      <td>no</td>\n",
       "    </tr>\n",
       "    <tr>\n",
       "      <th>2</th>\n",
       "      <td>78</td>\n",
       "      <td>retired</td>\n",
       "      <td>married</td>\n",
       "      <td>basic.4y</td>\n",
       "      <td>no</td>\n",
       "      <td>no</td>\n",
       "      <td>no</td>\n",
       "      <td>cellular</td>\n",
       "      <td>jul</td>\n",
       "      <td>mon</td>\n",
       "      <td>1148</td>\n",
       "      <td>1</td>\n",
       "      <td>999</td>\n",
       "      <td>0</td>\n",
       "      <td>nonexistent</td>\n",
       "      <td>yes</td>\n",
       "    </tr>\n",
       "    <tr>\n",
       "      <th>3</th>\n",
       "      <td>36</td>\n",
       "      <td>admin.</td>\n",
       "      <td>married</td>\n",
       "      <td>university.degree</td>\n",
       "      <td>no</td>\n",
       "      <td>yes</td>\n",
       "      <td>no</td>\n",
       "      <td>telephone</td>\n",
       "      <td>may</td>\n",
       "      <td>mon</td>\n",
       "      <td>120</td>\n",
       "      <td>2</td>\n",
       "      <td>999</td>\n",
       "      <td>0</td>\n",
       "      <td>nonexistent</td>\n",
       "      <td>no</td>\n",
       "    </tr>\n",
       "    <tr>\n",
       "      <th>4</th>\n",
       "      <td>59</td>\n",
       "      <td>retired</td>\n",
       "      <td>divorced</td>\n",
       "      <td>university.degree</td>\n",
       "      <td>no</td>\n",
       "      <td>no</td>\n",
       "      <td>no</td>\n",
       "      <td>cellular</td>\n",
       "      <td>jun</td>\n",
       "      <td>tue</td>\n",
       "      <td>368</td>\n",
       "      <td>2</td>\n",
       "      <td>999</td>\n",
       "      <td>0</td>\n",
       "      <td>nonexistent</td>\n",
       "      <td>no</td>\n",
       "    </tr>\n",
       "  </tbody>\n",
       "</table>\n",
       "</div>"
      ],
      "text/plain": [
       "   age           job   marital          education  default housing loan  \\\n",
       "0   49   blue-collar   married           basic.9y  unknown      no   no   \n",
       "1   37  entrepreneur   married  university.degree       no      no   no   \n",
       "2   78       retired   married           basic.4y       no      no   no   \n",
       "3   36        admin.   married  university.degree       no     yes   no   \n",
       "4   59       retired  divorced  university.degree       no      no   no   \n",
       "\n",
       "     contact month day_of_week  duration  campaign  pdays  previous  \\\n",
       "0   cellular   nov         wed       227         4    999         0   \n",
       "1  telephone   nov         wed       202         2    999         1   \n",
       "2   cellular   jul         mon      1148         1    999         0   \n",
       "3  telephone   may         mon       120         2    999         0   \n",
       "4   cellular   jun         tue       368         2    999         0   \n",
       "\n",
       "      poutcome    y  \n",
       "0  nonexistent   no  \n",
       "1      failure   no  \n",
       "2  nonexistent  yes  \n",
       "3  nonexistent   no  \n",
       "4  nonexistent   no  "
      ]
     },
     "execution_count": 8,
     "metadata": {},
     "output_type": "execute_result"
    }
   ],
   "source": [
    "data.head(5)"
   ]
  },
  {
   "cell_type": "code",
   "execution_count": 9,
   "id": "85c18472",
   "metadata": {},
   "outputs": [],
   "source": [
    "categorical_indices = list(range(1,10)) + [14]\n",
    "data.iloc[:,categorical_indices]=data.iloc[:,categorical_indices].astype('category')"
   ]
  },
  {
   "cell_type": "markdown",
   "id": "1e7cb4b4",
   "metadata": {},
   "source": [
    "### Обработаем категориальные признаки"
   ]
  },
  {
   "cell_type": "markdown",
   "id": "3c98f2ee",
   "metadata": {},
   "source": [
    "#### Подробнее обработка была описана в первой лабораторной работе"
   ]
  },
  {
   "cell_type": "code",
   "execution_count": 10,
   "id": "64267449",
   "metadata": {},
   "outputs": [],
   "source": [
    "categorical_columns = [c for c in data.columns if data[c].dtype.name == 'category']\n",
    "numerical_columns   = [c for c in data.columns if data[c].dtype.name != 'category']"
   ]
  },
  {
   "cell_type": "code",
   "execution_count": 11,
   "id": "868c9fc7",
   "metadata": {},
   "outputs": [],
   "source": [
    "data_describe = data.describe(include = ['category'])\n",
    "binary_columns    = [c for c in categorical_columns if data_describe[c]['unique'] == 2]\n",
    "nonbinary_columns = [c for c in categorical_columns if data_describe[c]['unique'] > 2]"
   ]
  },
  {
   "cell_type": "code",
   "execution_count": 12,
   "id": "a096729e",
   "metadata": {},
   "outputs": [],
   "source": [
    "data['contact'] = data['contact'].astype(object)\n",
    "data.at[data['contact'] == 'cellular', 'contact'] = 0\n",
    "data.at[data['contact'] == 'telephone', 'contact'] = 1"
   ]
  },
  {
   "cell_type": "code",
   "execution_count": 13,
   "id": "d2f25746",
   "metadata": {},
   "outputs": [],
   "source": [
    "data_nonbinary = pd.get_dummies(data[nonbinary_columns])"
   ]
  },
  {
   "cell_type": "markdown",
   "id": "4babf7f9",
   "metadata": {},
   "source": [
    "### Нормализация количественных признаков"
   ]
  },
  {
   "cell_type": "code",
   "execution_count": 14,
   "id": "50982727",
   "metadata": {},
   "outputs": [],
   "source": [
    "data_numerical = data[numerical_columns]"
   ]
  },
  {
   "cell_type": "code",
   "execution_count": 15,
   "id": "8331a36c",
   "metadata": {},
   "outputs": [],
   "source": [
    "data_numerical = (data_numerical - data_numerical.mean(axis = 0))/data_numerical.std(axis = 0)"
   ]
  },
  {
   "cell_type": "markdown",
   "id": "168829ff",
   "metadata": {},
   "source": [
    "### Объединение данных"
   ]
  },
  {
   "cell_type": "code",
   "execution_count": 16,
   "id": "de30532d",
   "metadata": {},
   "outputs": [],
   "source": [
    "data = pd.concat((data_numerical, data_nonbinary, data[binary_columns], data['y']), axis = 1)"
   ]
  },
  {
   "cell_type": "markdown",
   "id": "ee15fa08",
   "metadata": {},
   "source": [
    "### Подготовка данных"
   ]
  },
  {
   "cell_type": "code",
   "execution_count": 17,
   "id": "fc780086",
   "metadata": {},
   "outputs": [],
   "source": [
    "X = data.drop('y', axis = 1)\n",
    "y = data['y']\n",
    "feature_names = X.columns"
   ]
  },
  {
   "cell_type": "code",
   "execution_count": 18,
   "id": "2a3d2f2c",
   "metadata": {},
   "outputs": [
    {
     "data": {
      "text/html": [
       "<div>\n",
       "<style scoped>\n",
       "    .dataframe tbody tr th:only-of-type {\n",
       "        vertical-align: middle;\n",
       "    }\n",
       "\n",
       "    .dataframe tbody tr th {\n",
       "        vertical-align: top;\n",
       "    }\n",
       "\n",
       "    .dataframe thead th {\n",
       "        text-align: right;\n",
       "    }\n",
       "</style>\n",
       "<table border=\"1\" class=\"dataframe\">\n",
       "  <thead>\n",
       "    <tr style=\"text-align: right;\">\n",
       "      <th></th>\n",
       "      <th>age</th>\n",
       "      <th>campaign</th>\n",
       "      <th>duration</th>\n",
       "      <th>pdays</th>\n",
       "      <th>previous</th>\n",
       "      <th>job_admin.</th>\n",
       "      <th>job_blue-collar</th>\n",
       "      <th>job_entrepreneur</th>\n",
       "      <th>job_housemaid</th>\n",
       "      <th>job_management</th>\n",
       "      <th>...</th>\n",
       "      <th>month_sep</th>\n",
       "      <th>day_of_week_fri</th>\n",
       "      <th>day_of_week_mon</th>\n",
       "      <th>day_of_week_thu</th>\n",
       "      <th>day_of_week_tue</th>\n",
       "      <th>day_of_week_wed</th>\n",
       "      <th>poutcome_failure</th>\n",
       "      <th>poutcome_nonexistent</th>\n",
       "      <th>poutcome_success</th>\n",
       "      <th>contact</th>\n",
       "    </tr>\n",
       "  </thead>\n",
       "  <tbody>\n",
       "    <tr>\n",
       "      <th>0</th>\n",
       "      <td>0.863726</td>\n",
       "      <td>0.522973</td>\n",
       "      <td>-0.120194</td>\n",
       "      <td>0.196581</td>\n",
       "      <td>-0.350122</td>\n",
       "      <td>0</td>\n",
       "      <td>1</td>\n",
       "      <td>0</td>\n",
       "      <td>0</td>\n",
       "      <td>0</td>\n",
       "      <td>...</td>\n",
       "      <td>0</td>\n",
       "      <td>0</td>\n",
       "      <td>0</td>\n",
       "      <td>0</td>\n",
       "      <td>0</td>\n",
       "      <td>1</td>\n",
       "      <td>0</td>\n",
       "      <td>1</td>\n",
       "      <td>0</td>\n",
       "      <td>0</td>\n",
       "    </tr>\n",
       "    <tr>\n",
       "      <th>1</th>\n",
       "      <td>-0.289717</td>\n",
       "      <td>-0.203685</td>\n",
       "      <td>-0.216729</td>\n",
       "      <td>0.196581</td>\n",
       "      <td>1.653788</td>\n",
       "      <td>0</td>\n",
       "      <td>0</td>\n",
       "      <td>1</td>\n",
       "      <td>0</td>\n",
       "      <td>0</td>\n",
       "      <td>...</td>\n",
       "      <td>0</td>\n",
       "      <td>0</td>\n",
       "      <td>0</td>\n",
       "      <td>0</td>\n",
       "      <td>0</td>\n",
       "      <td>1</td>\n",
       "      <td>1</td>\n",
       "      <td>0</td>\n",
       "      <td>0</td>\n",
       "      <td>1</td>\n",
       "    </tr>\n",
       "    <tr>\n",
       "      <th>2</th>\n",
       "      <td>3.651213</td>\n",
       "      <td>-0.567014</td>\n",
       "      <td>3.436121</td>\n",
       "      <td>0.196581</td>\n",
       "      <td>-0.350122</td>\n",
       "      <td>0</td>\n",
       "      <td>0</td>\n",
       "      <td>0</td>\n",
       "      <td>0</td>\n",
       "      <td>0</td>\n",
       "      <td>...</td>\n",
       "      <td>0</td>\n",
       "      <td>0</td>\n",
       "      <td>1</td>\n",
       "      <td>0</td>\n",
       "      <td>0</td>\n",
       "      <td>0</td>\n",
       "      <td>0</td>\n",
       "      <td>1</td>\n",
       "      <td>0</td>\n",
       "      <td>0</td>\n",
       "    </tr>\n",
       "    <tr>\n",
       "      <th>3</th>\n",
       "      <td>-0.385837</td>\n",
       "      <td>-0.203685</td>\n",
       "      <td>-0.533360</td>\n",
       "      <td>0.196581</td>\n",
       "      <td>-0.350122</td>\n",
       "      <td>1</td>\n",
       "      <td>0</td>\n",
       "      <td>0</td>\n",
       "      <td>0</td>\n",
       "      <td>0</td>\n",
       "      <td>...</td>\n",
       "      <td>0</td>\n",
       "      <td>0</td>\n",
       "      <td>1</td>\n",
       "      <td>0</td>\n",
       "      <td>0</td>\n",
       "      <td>0</td>\n",
       "      <td>0</td>\n",
       "      <td>1</td>\n",
       "      <td>0</td>\n",
       "      <td>1</td>\n",
       "    </tr>\n",
       "    <tr>\n",
       "      <th>4</th>\n",
       "      <td>1.824928</td>\n",
       "      <td>-0.203685</td>\n",
       "      <td>0.424258</td>\n",
       "      <td>0.196581</td>\n",
       "      <td>-0.350122</td>\n",
       "      <td>0</td>\n",
       "      <td>0</td>\n",
       "      <td>0</td>\n",
       "      <td>0</td>\n",
       "      <td>0</td>\n",
       "      <td>...</td>\n",
       "      <td>0</td>\n",
       "      <td>0</td>\n",
       "      <td>0</td>\n",
       "      <td>0</td>\n",
       "      <td>1</td>\n",
       "      <td>0</td>\n",
       "      <td>0</td>\n",
       "      <td>1</td>\n",
       "      <td>0</td>\n",
       "      <td>0</td>\n",
       "    </tr>\n",
       "  </tbody>\n",
       "</table>\n",
       "<p>5 rows × 57 columns</p>\n",
       "</div>"
      ],
      "text/plain": [
       "        age  campaign  duration     pdays  previous  job_admin.  \\\n",
       "0  0.863726  0.522973 -0.120194  0.196581 -0.350122           0   \n",
       "1 -0.289717 -0.203685 -0.216729  0.196581  1.653788           0   \n",
       "2  3.651213 -0.567014  3.436121  0.196581 -0.350122           0   \n",
       "3 -0.385837 -0.203685 -0.533360  0.196581 -0.350122           1   \n",
       "4  1.824928 -0.203685  0.424258  0.196581 -0.350122           0   \n",
       "\n",
       "   job_blue-collar  job_entrepreneur  job_housemaid  job_management  ...  \\\n",
       "0                1                 0              0               0  ...   \n",
       "1                0                 1              0               0  ...   \n",
       "2                0                 0              0               0  ...   \n",
       "3                0                 0              0               0  ...   \n",
       "4                0                 0              0               0  ...   \n",
       "\n",
       "   month_sep  day_of_week_fri  day_of_week_mon  day_of_week_thu  \\\n",
       "0          0                0                0                0   \n",
       "1          0                0                0                0   \n",
       "2          0                0                1                0   \n",
       "3          0                0                1                0   \n",
       "4          0                0                0                0   \n",
       "\n",
       "   day_of_week_tue  day_of_week_wed  poutcome_failure  poutcome_nonexistent  \\\n",
       "0                0                1                 0                     1   \n",
       "1                0                1                 1                     0   \n",
       "2                0                0                 0                     1   \n",
       "3                0                0                 0                     1   \n",
       "4                1                0                 0                     1   \n",
       "\n",
       "   poutcome_success  contact  \n",
       "0                 0        0  \n",
       "1                 0        1  \n",
       "2                 0        0  \n",
       "3                 0        1  \n",
       "4                 0        0  \n",
       "\n",
       "[5 rows x 57 columns]"
      ]
     },
     "execution_count": 18,
     "metadata": {},
     "output_type": "execute_result"
    }
   ],
   "source": [
    "X.head()"
   ]
  },
  {
   "cell_type": "code",
   "execution_count": 19,
   "id": "999be966",
   "metadata": {},
   "outputs": [],
   "source": [
    "y = y.iloc[:,1]"
   ]
  },
  {
   "cell_type": "markdown",
   "id": "5d779d0c",
   "metadata": {},
   "source": [
    "### Разбиваем данные на обучающую и тестовую выборки"
   ]
  },
  {
   "cell_type": "code",
   "execution_count": 20,
   "id": "2e9da106",
   "metadata": {},
   "outputs": [],
   "source": [
    "from sklearn.model_selection import train_test_split"
   ]
  },
  {
   "cell_type": "code",
   "execution_count": 21,
   "id": "aad29608",
   "metadata": {},
   "outputs": [],
   "source": [
    "X_train, X_test, y_train, y_test = train_test_split(X, y, test_size = 0.25, random_state = 44)\n",
    "N_test, _ = X_test.shape"
   ]
  },
  {
   "cell_type": "markdown",
   "id": "d0360786",
   "metadata": {},
   "source": [
    "### Обучение классификатора"
   ]
  },
  {
   "cell_type": "code",
   "execution_count": 22,
   "id": "0f72f43d",
   "metadata": {},
   "outputs": [],
   "source": [
    "from sklearn.neural_network import MLPClassifier"
   ]
  },
  {
   "cell_type": "code",
   "execution_count": 23,
   "id": "2fba98f9",
   "metadata": {},
   "outputs": [],
   "source": [
    "mlp_model_one_layer = MLPClassifier(hidden_layer_sizes = (100,),\n",
    "                          solver = 'adam', \n",
    "                          activation = 'logistic',\n",
    "                          random_state = 44)"
   ]
  },
  {
   "cell_type": "code",
   "execution_count": 24,
   "id": "3ca439a5",
   "metadata": {},
   "outputs": [
    {
     "name": "stdout",
     "output_type": "stream",
     "text": [
      "Wall time: 34.4 s\n"
     ]
    },
    {
     "data": {
      "text/plain": [
       "MLPClassifier(activation='logistic', random_state=44)"
      ]
     },
     "execution_count": 24,
     "metadata": {},
     "output_type": "execute_result"
    }
   ],
   "source": [
    "%%time\n",
    "mlp_model_one_layer.fit(X_train, y_train)"
   ]
  },
  {
   "cell_type": "code",
   "execution_count": 25,
   "id": "0640f82a",
   "metadata": {},
   "outputs": [],
   "source": [
    "mlp_model_two_layers = MLPClassifier(hidden_layer_sizes = (100,100,),\n",
    "                          solver = 'adam', \n",
    "                          activation = 'logistic',\n",
    "                          random_state = 44)"
   ]
  },
  {
   "cell_type": "code",
   "execution_count": 26,
   "id": "1f1e4079",
   "metadata": {},
   "outputs": [
    {
     "name": "stdout",
     "output_type": "stream",
     "text": [
      "Wall time: 1min 1s\n"
     ]
    },
    {
     "data": {
      "text/plain": [
       "MLPClassifier(activation='logistic', hidden_layer_sizes=(100, 100),\n",
       "              random_state=44)"
      ]
     },
     "execution_count": 26,
     "metadata": {},
     "output_type": "execute_result"
    }
   ],
   "source": [
    "%%time\n",
    "mlp_model_two_layers.fit(X_train, y_train)"
   ]
  },
  {
   "cell_type": "markdown",
   "id": "d9374595",
   "metadata": {},
   "source": [
    "### Классификация"
   ]
  },
  {
   "cell_type": "markdown",
   "id": "6b53345f",
   "metadata": {},
   "source": [
    "### Один слой"
   ]
  },
  {
   "cell_type": "code",
   "execution_count": 27,
   "id": "36db041c",
   "metadata": {},
   "outputs": [
    {
     "name": "stdout",
     "output_type": "stream",
     "text": [
      "0.07352703140174814\n"
     ]
    }
   ],
   "source": [
    "y_train_pred = mlp_model_one_layer.predict(X_train)\n",
    "print(np.mean(y_train != y_train_pred))"
   ]
  },
  {
   "cell_type": "code",
   "execution_count": 28,
   "id": "313ca476",
   "metadata": {},
   "outputs": [
    {
     "name": "stdout",
     "output_type": "stream",
     "text": [
      "no\n"
     ]
    }
   ],
   "source": [
    "No = 44\n",
    "row = X_test.iloc[No, :]\n",
    "classification_value = y_test.iloc[No]\n",
    "print(classification_value)"
   ]
  },
  {
   "cell_type": "code",
   "execution_count": 29,
   "id": "793a6ef1",
   "metadata": {},
   "outputs": [
    {
     "data": {
      "text/plain": [
       "array(['no'], dtype='<U3')"
      ]
     },
     "execution_count": 29,
     "metadata": {},
     "output_type": "execute_result"
    }
   ],
   "source": [
    "mlp_model_one_layer.predict([row])"
   ]
  },
  {
   "cell_type": "code",
   "execution_count": 30,
   "id": "285723c6",
   "metadata": {},
   "outputs": [
    {
     "name": "stdout",
     "output_type": "stream",
     "text": [
      "yes\n"
     ]
    }
   ],
   "source": [
    "No = 82\n",
    "row = X_test.iloc[No, :]\n",
    "classification_value = y_test.iloc[No]\n",
    "print(classification_value)"
   ]
  },
  {
   "cell_type": "code",
   "execution_count": 31,
   "id": "8325be7f",
   "metadata": {},
   "outputs": [
    {
     "data": {
      "text/plain": [
       "array(['yes'], dtype='<U3')"
      ]
     },
     "execution_count": 31,
     "metadata": {},
     "output_type": "execute_result"
    }
   ],
   "source": [
    "mlp_model_one_layer.predict([row])"
   ]
  },
  {
   "cell_type": "markdown",
   "id": "99fbcf0d",
   "metadata": {},
   "source": [
    "### Два слоя"
   ]
  },
  {
   "cell_type": "code",
   "execution_count": 32,
   "id": "ff7a8113",
   "metadata": {},
   "outputs": [
    {
     "name": "stdout",
     "output_type": "stream",
     "text": [
      "no\n"
     ]
    }
   ],
   "source": [
    "No = 44\n",
    "row = X_test.iloc[No, :]\n",
    "classification_value = y_test.iloc[No]\n",
    "print(classification_value)"
   ]
  },
  {
   "cell_type": "code",
   "execution_count": 33,
   "id": "196f8054",
   "metadata": {},
   "outputs": [
    {
     "data": {
      "text/plain": [
       "array(['no'], dtype='<U3')"
      ]
     },
     "execution_count": 33,
     "metadata": {},
     "output_type": "execute_result"
    }
   ],
   "source": [
    "mlp_model_two_layers.predict([row])"
   ]
  },
  {
   "cell_type": "code",
   "execution_count": 34,
   "id": "a0f36552",
   "metadata": {},
   "outputs": [
    {
     "name": "stdout",
     "output_type": "stream",
     "text": [
      "yes\n"
     ]
    }
   ],
   "source": [
    "No = 82\n",
    "row = X_test.iloc[No, :]\n",
    "classification_value = y_test.iloc[No]\n",
    "print(classification_value)"
   ]
  },
  {
   "cell_type": "code",
   "execution_count": 35,
   "id": "a084dcf2",
   "metadata": {},
   "outputs": [
    {
     "data": {
      "text/plain": [
       "array(['yes'], dtype='<U3')"
      ]
     },
     "execution_count": 35,
     "metadata": {},
     "output_type": "execute_result"
    }
   ],
   "source": [
    "mlp_model_two_layers.predict([row])"
   ]
  },
  {
   "cell_type": "markdown",
   "id": "7c58976e",
   "metadata": {},
   "source": [
    "### Подбор гиперпараметров"
   ]
  },
  {
   "cell_type": "code",
   "execution_count": 36,
   "id": "ff7e69e1",
   "metadata": {},
   "outputs": [],
   "source": [
    "alpha_arr = np.logspace(-3, 2, 21)"
   ]
  },
  {
   "cell_type": "code",
   "execution_count": 37,
   "id": "0dea56a3",
   "metadata": {},
   "outputs": [],
   "source": [
    "from sklearn.metrics import accuracy_score"
   ]
  },
  {
   "cell_type": "code",
   "execution_count": 38,
   "id": "08f93344",
   "metadata": {},
   "outputs": [],
   "source": [
    "test_err = []\n",
    "train_err = []\n",
    "train_acc = []\n",
    "test_acc = []\n",
    "\n",
    "for alpha in alpha_arr:\n",
    "    mlp_model = MLPClassifier(alpha=alpha,\n",
    "                              hidden_layer_sizes = (100, ), \n",
    "                              solver='adam',\n",
    "                              activation = 'logistic',\n",
    "                              max_iter = 1000,\n",
    "                              random_state=44\n",
    "                              )\n",
    "    mlp_model.fit(X_train, y_train)\n",
    "    \n",
    "    y_train_pred = mlp_model.predict(X_train)\n",
    "    y_test_pred = mlp_model.predict(X_test)\n",
    "    \n",
    "    train_err.append(np.mean(y_train != y_train_pred))\n",
    "    test_err.append(np.mean(y_test != y_test_pred))\n",
    "    train_acc.append(accuracy_score(y_train, y_train_pred))\n",
    "    test_acc.append(accuracy_score(y_test, y_test_pred))"
   ]
  },
  {
   "cell_type": "code",
   "execution_count": 39,
   "id": "14ba5786",
   "metadata": {},
   "outputs": [
    {
     "data": {
      "text/plain": [
       "<matplotlib.legend.Legend at 0x1ec48a6fd60>"
      ]
     },
     "execution_count": 39,
     "metadata": {},
     "output_type": "execute_result"
    },
    {
     "data": {
      "image/png": "[encoded data removed]",
      "text/plain": [
       "<Figure size 432x288 with 1 Axes>"
      ]
     },
     "metadata": {
      "needs_background": "light"
     },
     "output_type": "display_data"
    }
   ],
   "source": [
    "plt.semilogx(alpha_arr, train_err, 'b-o', label=\"train\")\n",
    "plt.semilogx(alpha_arr, test_err, 'r-o', label=\"test\")\n",
    "plt.xlim([np.min(alpha_arr), np.max(alpha_arr)])\n",
    "plt.title('Error vs. alpha')\n",
    "plt.xlabel('alpha')\n",
    "plt.ylabel('error')\n",
    "plt.legend()\n"
   ]
  },
  {
   "cell_type": "markdown",
   "id": "bfe85fdf",
   "metadata": {},
   "source": [
    "При малых alpha недообучение"
   ]
  },
  {
   "cell_type": "code",
   "execution_count": 40,
   "id": "abad8521",
   "metadata": {},
   "outputs": [
    {
     "data": {
      "text/plain": [
       "<matplotlib.legend.Legend at 0x1ec4875b160>"
      ]
     },
     "execution_count": 40,
     "metadata": {},
     "output_type": "execute_result"
    },
    {
     "data": {
      "image/png": "[encoded data removed]",
      "text/plain": [
       "<Figure size 432x288 with 1 Axes>"
      ]
     },
     "metadata": {
      "needs_background": "light"
     },
     "output_type": "display_data"
    }
   ],
   "source": [
    "plt.semilogx(alpha_arr, train_acc, 'r-o', label=\"train\")\n",
    "plt.semilogx(alpha_arr, test_acc, 'b-o', label=\"test\")\n",
    "plt.xlim([np.min(alpha_arr), np.max(alpha_arr)])\n",
    "plt.title('accuracy vs. alpha')\n",
    "plt.xlabel('alpha')\n",
    "plt.ylabel('accuracy')\n",
    "plt.legend()"
   ]
  },
  {
   "cell_type": "code",
   "execution_count": 41,
   "id": "99e25472",
   "metadata": {},
   "outputs": [
    {
     "name": "stdout",
     "output_type": "stream",
     "text": [
      "0.018290708967303334 0.09577567370721049\n"
     ]
    }
   ],
   "source": [
    "min_train_arr = np.min(train_err)\n",
    "min_test_err = np.min(test_err)\n",
    "print(min_train_arr, min_test_err)"
   ]
  },
  {
   "cell_type": "code",
   "execution_count": 42,
   "id": "183b9c04",
   "metadata": {},
   "outputs": [
    {
     "name": "stdout",
     "output_type": "stream",
     "text": [
      "[0.01]\n"
     ]
    }
   ],
   "source": [
    "alpha_opt = alpha_arr[test_err  == min_test_err]\n",
    "print(alpha_opt)\n"
   ]
  },
  {
   "cell_type": "code",
   "execution_count": 43,
   "id": "f5493db0",
   "metadata": {},
   "outputs": [],
   "source": [
    "alpha_opt_one_layer = alpha_opt[0]"
   ]
  },
  {
   "cell_type": "markdown",
   "id": "965a5ce6",
   "metadata": {},
   "source": [
    " Посмотрим на два слоя:"
   ]
  },
  {
   "cell_type": "code",
   "execution_count": 44,
   "id": "3ebc31ae",
   "metadata": {},
   "outputs": [],
   "source": [
    "test_err = []\n",
    "train_err = []\n",
    "train_acc = []\n",
    "test_acc = []\n",
    "\n",
    "for alpha in alpha_arr:\n",
    "    mlp_model = MLPClassifier(alpha=alpha,\n",
    "                              hidden_layer_sizes = (100,100,), \n",
    "                              solver='adam',\n",
    "                              activation = 'logistic',\n",
    "                              max_iter = 1000,\n",
    "                              random_state=44\n",
    "                              )\n",
    "    mlp_model.fit(X_train, y_train)\n",
    "    \n",
    "    y_train_pred = mlp_model.predict(X_train)\n",
    "    y_test_pred = mlp_model.predict(X_test)\n",
    "    \n",
    "    train_err.append(np.mean(y_train != y_train_pred))\n",
    "    test_err.append(np.mean(y_test != y_test_pred))\n",
    "    train_acc.append(accuracy_score(y_train, y_train_pred))\n",
    "    test_acc.append(accuracy_score(y_test, y_test_pred))"
   ]
  },
  {
   "cell_type": "code",
   "execution_count": 45,
   "id": "1f3b1821",
   "metadata": {},
   "outputs": [
    {
     "data": {
      "text/plain": [
       "<matplotlib.legend.Legend at 0x1ec488bf670>"
      ]
     },
     "execution_count": 45,
     "metadata": {},
     "output_type": "execute_result"
    },
    {
     "data": {
      "image/png": "[encoded data removed]",
      "text/plain": [
       "<Figure size 432x288 with 1 Axes>"
      ]
     },
     "metadata": {
      "needs_background": "light"
     },
     "output_type": "display_data"
    }
   ],
   "source": [
    "plt.semilogx(alpha_arr, train_err, 'b-o', label=\"train\")\n",
    "plt.semilogx(alpha_arr, test_err, 'r-o', label=\"test\")\n",
    "plt.xlim([np.min(alpha_arr), np.max(alpha_arr)])\n",
    "plt.title('Error vs. alpha')\n",
    "plt.xlabel('alpha')\n",
    "plt.ylabel('error')\n",
    "plt.legend()"
   ]
  },
  {
   "cell_type": "markdown",
   "id": "ca806cc2",
   "metadata": {},
   "source": [
    "При малых alpha недообучение"
   ]
  },
  {
   "cell_type": "code",
   "execution_count": 46,
   "id": "4b016499",
   "metadata": {},
   "outputs": [
    {
     "data": {
      "text/plain": [
       "<matplotlib.legend.Legend at 0x1ec48b16be0>"
      ]
     },
     "execution_count": 46,
     "metadata": {},
     "output_type": "execute_result"
    },
    {
     "data": {
      "image/png": "[encoded data removed]",
      "text/plain": [
       "<Figure size 432x288 with 1 Axes>"
      ]
     },
     "metadata": {
      "needs_background": "light"
     },
     "output_type": "display_data"
    }
   ],
   "source": [
    "plt.semilogx(alpha_arr, train_acc, 'r-o', label=\"train\")\n",
    "plt.semilogx(alpha_arr, test_acc, 'b-o', label=\"test\")\n",
    "plt.xlim([np.min(alpha_arr), np.max(alpha_arr)])\n",
    "plt.title('accuracy vs. alpha')\n",
    "plt.xlabel('alpha')\n",
    "plt.ylabel('accuracy')\n",
    "plt.legend()"
   ]
  },
  {
   "cell_type": "code",
   "execution_count": 47,
   "id": "4100765d",
   "metadata": {},
   "outputs": [
    {
     "name": "stdout",
     "output_type": "stream",
     "text": [
      "0.018978633862091292 0.09626122845350814\n"
     ]
    }
   ],
   "source": [
    "min_train_arr = np.min(train_err)\n",
    "min_test_err = np.min(test_err)\n",
    "print(min_train_arr, min_test_err)"
   ]
  },
  {
   "cell_type": "code",
   "execution_count": 48,
   "id": "c717605c",
   "metadata": {},
   "outputs": [
    {
     "name": "stdout",
     "output_type": "stream",
     "text": [
      "[0.01]\n"
     ]
    }
   ],
   "source": [
    "alpha_opt = alpha_arr[test_err  == min_test_err]\n",
    "print(alpha_opt)"
   ]
  },
  {
   "cell_type": "code",
   "execution_count": 49,
   "id": "65d72cd7",
   "metadata": {},
   "outputs": [],
   "source": [
    "alpha_opt_two_layers = alpha_opt[0]"
   ]
  },
  {
   "cell_type": "code",
   "execution_count": 50,
   "id": "340b3652",
   "metadata": {},
   "outputs": [],
   "source": [
    "layer_sizes = np.arange(20, 200, 10)"
   ]
  },
  {
   "cell_type": "code",
   "execution_count": 51,
   "id": "ef1539f9",
   "metadata": {},
   "outputs": [],
   "source": [
    "test_err = []\n",
    "train_err = []\n",
    "train_acc = []\n",
    "test_acc = []\n",
    "\n",
    "for layer_size in layer_sizes:\n",
    "    mlp_model = MLPClassifier(alpha=alpha_opt_one_layer,\n",
    "                              hidden_layer_sizes = (layer_size,), \n",
    "                              solver='adam',\n",
    "                              activation = 'logistic',\n",
    "                              max_iter = 1000,\n",
    "                              random_state=44\n",
    "                              )\n",
    "    mlp_model.fit(X_train, y_train)\n",
    "    \n",
    "    y_train_pred = mlp_model.predict(X_train)\n",
    "    y_test_pred = mlp_model.predict(X_test)\n",
    "    \n",
    "    train_err.append(np.mean(y_train != y_train_pred))\n",
    "    test_err.append(np.mean(y_test != y_test_pred))\n",
    "    train_acc.append(accuracy_score(y_train, y_train_pred))\n",
    "    test_acc.append(accuracy_score(y_test, y_test_pred))"
   ]
  },
  {
   "cell_type": "code",
   "execution_count": 52,
   "id": "0f2e1c7a",
   "metadata": {},
   "outputs": [
    {
     "data": {
      "text/plain": [
       "<matplotlib.legend.Legend at 0x1ec48c5d160>"
      ]
     },
     "execution_count": 52,
     "metadata": {},
     "output_type": "execute_result"
    },
    {
     "data": {
      "image/png": "[encoded data removed]",
      "text/plain": [
       "<Figure size 432x288 with 1 Axes>"
      ]
     },
     "metadata": {
      "needs_background": "light"
     },
     "output_type": "display_data"
    }
   ],
   "source": [
    "plt.semilogx(layer_sizes, train_err, 'b-o', label=\"train\")\n",
    "plt.semilogx(layer_sizes, test_err, 'r-o', label=\"test\")\n",
    "plt.xlim([np.min(layer_sizes), np.max(layer_sizes)])\n",
    "plt.xlim([20,200])\n",
    "plt.title('Error vs. neurons count')\n",
    "plt.xlabel('neurons count')\n",
    "plt.ylabel('error')\n",
    "plt.legend()"
   ]
  },
  {
   "cell_type": "markdown",
   "id": "ab5e5882",
   "metadata": {},
   "source": [
    "Недообучение/Переобучение не наблюдается"
   ]
  },
  {
   "cell_type": "code",
   "execution_count": 53,
   "id": "f539f5e2",
   "metadata": {},
   "outputs": [],
   "source": [
    "test_err = []\n",
    "train_err = []\n",
    "train_acc = []\n",
    "test_acc = []\n",
    "\n",
    "for layer_size in layer_sizes:\n",
    "    mlp_model = MLPClassifier(alpha=alpha_opt_two_layers,\n",
    "                              hidden_layer_sizes = (layer_size,layer_size,), \n",
    "                              solver='adam',\n",
    "                              activation = 'logistic',\n",
    "                              max_iter = 1000,\n",
    "                              random_state=44\n",
    "                              )\n",
    "    mlp_model.fit(X_train, y_train)\n",
    "    \n",
    "    y_train_pred = mlp_model.predict(X_train)\n",
    "    y_test_pred = mlp_model.predict(X_test)\n",
    "    \n",
    "    train_err.append(np.mean(y_train != y_train_pred))\n",
    "    test_err.append(np.mean(y_test != y_test_pred))\n",
    "    train_acc.append(accuracy_score(y_train, y_train_pred))\n",
    "    test_acc.append(accuracy_score(y_test, y_test_pred))"
   ]
  },
  {
   "cell_type": "code",
   "execution_count": 54,
   "id": "401151fa",
   "metadata": {},
   "outputs": [
    {
     "data": {
      "text/plain": [
       "<matplotlib.legend.Legend at 0x1ec48be16d0>"
      ]
     },
     "execution_count": 54,
     "metadata": {},
     "output_type": "execute_result"
    },
    {
     "data": {
      "image/png": "[encoded data removed]",
      "text/plain": [
       "<Figure size 432x288 with 1 Axes>"
      ]
     },
     "metadata": {
      "needs_background": "light"
     },
     "output_type": "display_data"
    }
   ],
   "source": [
    "plt.semilogx(layer_sizes, train_err, 'b-o', label=\"train\")\n",
    "plt.semilogx(layer_sizes, test_err, 'r-o', label=\"test\")\n",
    "plt.xlim([np.min(layer_sizes), np.max(layer_sizes)])\n",
    "plt.xlim([20,200])\n",
    "plt.title('Error vs. neurons count')\n",
    "plt.xlabel('neurons count')\n",
    "plt.ylabel('error')\n",
    "plt.legend()"
   ]
  },
  {
   "cell_type": "markdown",
   "id": "2059c1cb",
   "metadata": {},
   "source": [
    "Теперь обучим классификатор при оптимальном alpha. Как мы увидели выше, достаточно одного слоя."
   ]
  },
  {
   "cell_type": "code",
   "execution_count": 72,
   "id": "851ca96e",
   "metadata": {},
   "outputs": [
    {
     "name": "stdout",
     "output_type": "stream",
     "text": [
      "0.07729038523794109\n",
      "0.09577567370721049\n"
     ]
    }
   ],
   "source": [
    "mlp_model = MLPClassifier(alpha=alpha_opt_one_layer,\n",
    "                              hidden_layer_sizes = (100, ), \n",
    "                              solver='adam',\n",
    "                              activation = 'logistic',\n",
    "                              max_iter = 1000,\n",
    "                              random_state=44\n",
    "                              )\n",
    "mlp_model.fit(X_train, y_train)\n",
    "\n",
    "y_train_pred = mlp_model.predict(X_train)\n",
    "y_test_pred = mlp_model.predict(X_test)\n",
    "\n",
    "print(np.mean(y_train != y_train_pred))\n",
    "print(np.mean(y_test != y_test_pred))"
   ]
  },
  {
   "cell_type": "markdown",
   "id": "d4fb5ac0",
   "metadata": {},
   "source": [
    "### Матрица рассогласования"
   ]
  },
  {
   "cell_type": "code",
   "execution_count": 73,
   "id": "44944cbb",
   "metadata": {},
   "outputs": [
    {
     "data": {
      "text/plain": [
       "<sklearn.metrics._plot.confusion_matrix.ConfusionMatrixDisplay at 0x1ec487673a0>"
      ]
     },
     "execution_count": 73,
     "metadata": {},
     "output_type": "execute_result"
    },
    {
     "data": {
      "image/png": "[encoded data removed]",
      "text/plain": [
       "<Figure size 432x288 with 2 Axes>"
      ]
     },
     "metadata": {
      "needs_background": "light"
     },
     "output_type": "display_data"
    }
   ],
   "source": [
    "from sklearn.metrics import plot_confusion_matrix\n",
    "plot_confusion_matrix(mlp_model, X_test, y_test)"
   ]
  },
  {
   "cell_type": "code",
   "execution_count": 74,
   "id": "3e55dc08",
   "metadata": {},
   "outputs": [
    {
     "name": "stdout",
     "output_type": "stream",
     "text": [
      "              precision    recall  f1-score   support\n",
      "\n",
      "          no       0.93      0.96      0.95      7278\n",
      "         yes       0.62      0.47      0.54       960\n",
      "\n",
      "    accuracy                           0.90      8238\n",
      "   macro avg       0.77      0.72      0.74      8238\n",
      "weighted avg       0.90      0.90      0.90      8238\n",
      "\n"
     ]
    }
   ],
   "source": [
    "print(classification_report(y_test, y_test_pred))"
   ]
  },
  {
   "cell_type": "markdown",
   "id": "e53b83f5",
   "metadata": {},
   "source": [
    "$$TPR = \\frac{TP}{P} = 48\\% \\\\ $$\n",
    "$$TNR = \\frac{TN}{N} = 96\\% \\\\ $$\n",
    "$$FPR = \\frac{FP}{N} = 4\\% \\\\ $$\n",
    "$$FNR = \\frac{FN}{P} = 53\\% \\\\ $$"
   ]
  },
  {
   "cell_type": "code",
   "execution_count": 75,
   "id": "41f2adfa",
   "metadata": {},
   "outputs": [
    {
     "data": {
      "text/plain": [
       "0.09504734158776403"
      ]
     },
     "execution_count": 75,
     "metadata": {},
     "output_type": "execute_result"
    }
   ],
   "source": [
    "min_test_err = np.min(test_err)\n",
    "min_test_err"
   ]
  },
  {
   "cell_type": "code",
   "execution_count": 76,
   "id": "fab8caa6",
   "metadata": {},
   "outputs": [],
   "source": [
    "optimal_layer_size = layer_sizes[test_err == min_test_err][0]"
   ]
  },
  {
   "cell_type": "markdown",
   "id": "d7e1b76d",
   "metadata": {},
   "source": [
    "### Натренируем модель с оптимальным количеством нейронов"
   ]
  },
  {
   "cell_type": "code",
   "execution_count": 77,
   "id": "2cba8d8b",
   "metadata": {},
   "outputs": [
    {
     "name": "stdout",
     "output_type": "stream",
     "text": [
      "0.07943509226286824\n",
      "0.0958970623937849\n"
     ]
    }
   ],
   "source": [
    "mlp_model = MLPClassifier(alpha=alpha_opt_one_layer,\n",
    "                              hidden_layer_sizes = (optimal_layer_size, ), \n",
    "                              solver='adam',\n",
    "                              activation = 'logistic',\n",
    "                              max_iter = 1000,\n",
    "                              random_state=44\n",
    "                              )\n",
    "mlp_model.fit(X_train, y_train)\n",
    "\n",
    "y_train_pred = mlp_model.predict(X_train)\n",
    "y_test_pred = mlp_model.predict(X_test)\n",
    "\n",
    "print(np.mean(y_train != y_train_pred))\n",
    "print(np.mean(y_test != y_test_pred))"
   ]
  },
  {
   "cell_type": "code",
   "execution_count": 78,
   "id": "cf949915",
   "metadata": {},
   "outputs": [
    {
     "data": {
      "text/plain": [
       "<sklearn.metrics._plot.confusion_matrix.ConfusionMatrixDisplay at 0x1ec4857baf0>"
      ]
     },
     "execution_count": 78,
     "metadata": {},
     "output_type": "execute_result"
    },
    {
     "data": {
      "image/png": "[encoded data removed]",
      "text/plain": [
       "<Figure size 432x288 with 2 Axes>"
      ]
     },
     "metadata": {
      "needs_background": "light"
     },
     "output_type": "display_data"
    }
   ],
   "source": [
    "plot_confusion_matrix(mlp_model, X_test, y_test)"
   ]
  },
  {
   "cell_type": "code",
   "execution_count": 79,
   "id": "7ddd1ea7",
   "metadata": {},
   "outputs": [
    {
     "name": "stdout",
     "output_type": "stream",
     "text": [
      "              precision    recall  f1-score   support\n",
      "\n",
      "          no       0.93      0.97      0.95      7278\n",
      "         yes       0.63      0.43      0.51       960\n",
      "\n",
      "    accuracy                           0.90      8238\n",
      "   macro avg       0.78      0.70      0.73      8238\n",
      "weighted avg       0.89      0.90      0.90      8238\n",
      "\n"
     ]
    }
   ],
   "source": [
    "print(classification_report(y_test, y_test_pred))"
   ]
  },
  {
   "cell_type": "markdown",
   "id": "62d14260",
   "metadata": {},
   "source": [
    "$$TPR = \\frac{TP}{P} = 43\\% \\\\ $$\n",
    "$$TNR = \\frac{TN}{N} = 97\\% \\\\ $$\n",
    "$$FPR = \\frac{FP}{N} = 3\\% \\\\ $$\n",
    "$$FNR = \\frac{FN}{P} = 57\\% \\\\ $$"
   ]
  },
  {
   "cell_type": "markdown",
   "id": "d48dab13",
   "metadata": {},
   "source": [
    "### Выводы"
   ]
  },
  {
   "cell_type": "markdown",
   "id": "6a29dcc5",
   "metadata": {},
   "source": [
    "> * Оптимальное количество слоев - 1\n",
    "> * Оптимальное количество нейронов - 40\n",
    "> * Оптимальное alpha = 0.01"
   ]
  }
 ],
 "metadata": {
  "kernelspec": {
   "display_name": "Python 3",
   "language": "python",
   "name": "python3"
  },
  "language_info": {
   "codemirror_mode": {
    "name": "ipython",
    "version": 3
   },
   "file_extension": ".py",
   "mimetype": "text/x-python",
   "name": "python",
   "nbconvert_exporter": "python",
   "pygments_lexer": "ipython3",
   "version": "3.8.8"
  }
 },
 "nbformat": 4,
 "nbformat_minor": 5
}
